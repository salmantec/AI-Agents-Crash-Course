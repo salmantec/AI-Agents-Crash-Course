{
  "cells": [
    {
      "cell_type": "markdown",
      "metadata": {
        "id": "view-in-github",
        "colab_type": "text"
      },
      "source": [
        "<a href=\"https://colab.research.google.com/github/salmantec/AI-Agents-Crash-Course/blob/feat%2FDay-1/Day-1/Day_1.ipynb\" target=\"_parent\"><img src=\"https://colab.research.google.com/assets/colab-badge.svg\" alt=\"Open In Colab\"/></a>"
      ]
    },
    {
      "cell_type": "code",
      "execution_count": null,
      "metadata": {
        "id": "Kn76Mvk37YTJ"
      },
      "outputs": [],
      "source": [
        "## Intro\n",
        "\n",
        "# We'll create a conversational agent that can answer questions about any GitHub repository - think of it as your personal AI assistant for documentation and code.\n",
        "# If you know DeepWiki, it's something similar, but tailored to your GitHub repo.\n",
        "# For that, we need to:\n",
        "# - Download and process data from the repo\n",
        "# - Put it inside a search engine\n",
        "# - Make the search engine available to our agent\n",
        "\n",
        "# Today, we will do the first part: downloading the data.\n"
      ]
    },
    {
      "cell_type": "code",
      "execution_count": null,
      "metadata": {
        "id": "jBcID2fJ7YPc"
      },
      "outputs": [],
      "source": [
        "## Ingest and Index Your Data"
      ]
    },
    {
      "cell_type": "code",
      "execution_count": 4,
      "metadata": {
        "colab": {
          "base_uri": "https://localhost:8080/"
        },
        "id": "FuOG2O6T7YNr",
        "outputId": "c22c6100-692d-4078-adfb-e63c264b34a7"
      },
      "outputs": [
        {
          "output_type": "stream",
          "name": "stdout",
          "text": [
            "Requirement already satisfied: uv in /usr/local/lib/python3.12/dist-packages (0.8.22)\n"
          ]
        }
      ],
      "source": [
        "!pip install uv"
      ]
    },
    {
      "cell_type": "code",
      "execution_count": 5,
      "metadata": {
        "colab": {
          "base_uri": "https://localhost:8080/"
        },
        "id": "xeCFXtFQ7YKQ",
        "outputId": "16e44775-1ddd-449b-c49a-551baeb59851"
      },
      "outputs": [
        {
          "output_type": "stream",
          "name": "stdout",
          "text": [
            "\u001b[2mUsing Python 3.12.11 environment at: /usr\u001b[0m\n",
            "\u001b[2mAudited \u001b[1m2 packages\u001b[0m \u001b[2min 112ms\u001b[0m\u001b[0m\n"
          ]
        }
      ],
      "source": [
        "!uv pip install requests python-frontmatter"
      ]
    },
    {
      "cell_type": "code",
      "execution_count": 9,
      "metadata": {
        "colab": {
          "base_uri": "https://localhost:8080/",
          "height": 211
        },
        "id": "iNfOlUBf7YIi",
        "outputId": "80f60cd1-6c8f-4745-fa41-7fc5a8452260"
      },
      "outputs": [
        {
          "output_type": "error",
          "ename": "FileNotFoundError",
          "evalue": "[Errno 2] No such file or directory: 'sample_data/example.md'",
          "traceback": [
            "\u001b[0;31m---------------------------------------------------------------------------\u001b[0m",
            "\u001b[0;31mFileNotFoundError\u001b[0m                         Traceback (most recent call last)",
            "\u001b[0;32m/tmp/ipython-input-743423478.py\u001b[0m in \u001b[0;36m<cell line: 0>\u001b[0;34m()\u001b[0m\n\u001b[1;32m      1\u001b[0m \u001b[0;32mimport\u001b[0m \u001b[0mfrontmatter\u001b[0m\u001b[0;34m\u001b[0m\u001b[0;34m\u001b[0m\u001b[0m\n\u001b[1;32m      2\u001b[0m \u001b[0;34m\u001b[0m\u001b[0m\n\u001b[0;32m----> 3\u001b[0;31m \u001b[0;32mwith\u001b[0m \u001b[0mopen\u001b[0m\u001b[0;34m(\u001b[0m\u001b[0;34m'sample_data/example.md'\u001b[0m\u001b[0;34m,\u001b[0m \u001b[0;34m'r'\u001b[0m\u001b[0;34m,\u001b[0m \u001b[0mencoding\u001b[0m\u001b[0;34m=\u001b[0m\u001b[0;34m'utf-8'\u001b[0m\u001b[0;34m)\u001b[0m \u001b[0;32mas\u001b[0m \u001b[0mf\u001b[0m\u001b[0;34m:\u001b[0m\u001b[0;34m\u001b[0m\u001b[0;34m\u001b[0m\u001b[0m\n\u001b[0m\u001b[1;32m      4\u001b[0m   \u001b[0mpost\u001b[0m \u001b[0;34m=\u001b[0m \u001b[0mfrontmatter\u001b[0m\u001b[0;34m.\u001b[0m\u001b[0mload\u001b[0m\u001b[0;34m(\u001b[0m\u001b[0mf\u001b[0m\u001b[0;34m)\u001b[0m\u001b[0;34m\u001b[0m\u001b[0;34m\u001b[0m\u001b[0m\n\u001b[1;32m      5\u001b[0m \u001b[0;34m\u001b[0m\u001b[0m\n",
            "\u001b[0;31mFileNotFoundError\u001b[0m: [Errno 2] No such file or directory: 'sample_data/example.md'"
          ]
        }
      ],
      "source": [
        "import frontmatter\n",
        "\n",
        "with open('sample_data/example.md', 'r', encoding='utf-8') as f:\n",
        "  post = frontmatter.load(f)\n",
        "\n",
        "# Access metadata\n",
        "print(post.metadata['title'])\n",
        "print(post.metadata['tags'])\n",
        "\n",
        "# Access content\n",
        "print(post.content)\n",
        "\n",
        "\n",
        "\n",
        "### Content of sample_data/example.md file\n",
        "\n",
        "# ---\n",
        "# title: \"Getting Started with AI\"\n",
        "# author: \"John Doe\"\n",
        "# date: \"2024-01-15\"\n",
        "# tags: [\"ai\", \"machine-learning\", \"tutorial\"]\n",
        "# difficulty: \"beginner\"\n",
        "# ---\n",
        "\n",
        "# # Getting Started with AI\n",
        "\n",
        "# This is the main content of the document written in **Markdown**.\n",
        "\n",
        "# You can include code blocks, links, and other formatting here.\n"
      ]
    },
    {
      "cell_type": "code",
      "execution_count": 12,
      "metadata": {
        "id": "XVWgJgqs7YE8",
        "colab": {
          "base_uri": "https://localhost:8080/"
        },
        "outputId": "ff3b1651-df79-4a5f-9e87-1769de9fb0d9"
      },
      "outputs": [
        {
          "output_type": "stream",
          "name": "stdout",
          "text": [
            "{'id': '9e508f2212', 'question': 'Course: When does the course start?', 'sort_order': 1, 'content': \"The next cohort starts January 13th, 2025. More info at [DTC](https://datatalks.club/blog/guide-to-free-online-courses-at-datatalks-club.html).\\n\\n- Register before the course starts using this [link](https://airtable.com/shr6oVXeQvSI5HuWD).\\n- Join the [course Telegram channel with announcements](https://t.me/dezoomcamp).\\n- Don’t forget to register in DataTalks.Club's Slack and join the channel.\", 'filename': 'faq-main/_questions/data-engineering-zoomcamp/general/001_9e508f2212_course-when-does-the-course-start.md'}\n"
          ]
        }
      ],
      "source": [
        "## Working with Zip Archives\n",
        "\n",
        "# The second option is easier and more efficient for our use case.\n",
        "# We don't even need to save the zip archive - we can load it into our Python process memory and extract all the data we need from there.\n",
        "# So the plan:\n",
        "# - Use requests for downloading the zip archive from GitHub\n",
        "# - Open the archive using built-in zipfile and io modules\n",
        "# - Iterate over all .md and .mdx files in the repo\n",
        "# - Collect the results into a list\n",
        "\n",
        "# Let's implement it step by step.\n",
        "\n",
        "# First, we import the necessary libraries:\n",
        "\n",
        "import io\n",
        "import zipfile\n",
        "import requests\n",
        "import frontmatter\n",
        "\n",
        "# Next, we download the repository as a zip file. Github privodes a convenient URL format for this:\n",
        "\n",
        "url = 'https://codeload.github.com/DataTalksClub/faq/zip/refs/heads/main'\n",
        "resp = requests.get(url)\n",
        "\n",
        "\n",
        "# Now we process the zip file in memory without saving it to disk:\n",
        "\n",
        "repository_data = []\n",
        "\n",
        "# Create a ZipFile object from the downloaded content\n",
        "zf = zipfile.ZipFile(io.BytesIO(resp.content))\n",
        "\n",
        "for file_info in zf.infolist():\n",
        "  filename = file_info.filename.lower()\n",
        "\n",
        "  # Only process markdown files\n",
        "  if not filename.endswith('.md') or filename.endswith('.mdx'):\n",
        "    continue\n",
        "\n",
        "  # Read and parse each file\n",
        "  with zf.open(file_info) as f_in:\n",
        "    content = f_in.read()\n",
        "    post = frontmatter.loads(content)\n",
        "    data = post.to_dict()\n",
        "    data['filename'] = filename\n",
        "    repository_data.append(data)\n",
        "\n",
        "zf.close()\n",
        "\n",
        "\n",
        "# Let's look at what we got\n",
        "print(repository_data[1])\n"
      ]
    },
    {
      "cell_type": "code",
      "execution_count": 14,
      "metadata": {
        "id": "nJWLb34U7YDF"
      },
      "outputs": [],
      "source": [
        "# Complete implementation of above logic with reusable function\n",
        "\n",
        "import io\n",
        "import zipfile\n",
        "import requests\n",
        "import frontmatter\n",
        "\n",
        "def read_repo_data(repo_owner, repo_name):\n",
        "  \"\"\"\n",
        "  Download and parse all markdown files from a github repository\n",
        "\n",
        "  Args:\n",
        "    repo_owner : Github username or organization\n",
        "    repo_name: Repository name\n",
        "\n",
        "  Returns:\n",
        "    List of dictionaries containing file content and metadata\n",
        "  \"\"\"\n",
        "  prefix = 'https://codeload.github.com'\n",
        "  url = f'{prefix}/{repo_owner}/{repo_name}/zip/refs/heads/main'\n",
        "  resp = requests.get(url)\n",
        "\n",
        "  if resp.status_code != 200:\n",
        "    raise Exception(f\"Failed to download repository {repo_owner}/{repo_name}: {resp.status_code}\")\n",
        "\n",
        "  repository_data = []\n",
        "\n",
        "  # Create a ZipFile object from the downloaded content\n",
        "  zf = zipfile.ZipFile(io.BytesIO(resp.content))\n",
        "\n",
        "  for file_info in zf.infolist():\n",
        "    filename = file_info.filename\n",
        "    filename_lower = filename.lower()\n",
        "\n",
        "    if not (filename_lower.endswith('.md') or (filename_lower.endswith('.mdx'))):\n",
        "      continue\n",
        "\n",
        "    try:\n",
        "      with zf.open(file_info) as f_in:\n",
        "        content = f_in.read().decode('utf-8', errors='ignore')\n",
        "        post = frontmatter.loads(content)\n",
        "        data = post.to_dict()\n",
        "        data['filename'] = filename\n",
        "        repository_data.append(data)\n",
        "    except Exception as e:\n",
        "      print(f\"Error processing {filename}: {e}\")\n",
        "      continue\n",
        "\n",
        "  zf.close()\n",
        "  return repository_data"
      ]
    },
    {
      "cell_type": "code",
      "execution_count": 15,
      "metadata": {
        "id": "FhOhhxJu7X_k",
        "colab": {
          "base_uri": "https://localhost:8080/"
        },
        "outputId": "2892f5c4-dedf-4dc7-8417-b8ac677b0bdf"
      },
      "outputs": [
        {
          "output_type": "stream",
          "name": "stdout",
          "text": [
            "FAQ Documents: 1217\n",
            "Evidently Docs: 95\n"
          ]
        }
      ],
      "source": [
        "dtc_faq = read_repo_data('DataTalksClub', 'faq')\n",
        "evidently_docs = read_repo_data('evidentlyai', 'docs')\n",
        "\n",
        "print(f\"FAQ Documents: {len(dtc_faq)}\")\n",
        "print(f\"Evidently Docs: {len(evidently_docs)}\")"
      ]
    },
    {
      "cell_type": "code",
      "execution_count": null,
      "metadata": {
        "id": "hEtOqk1V7X99"
      },
      "outputs": [],
      "source": [
        "# Data Processing Considerations\n",
        "\n",
        "# For FAQ, the data is ready to use. These are small records that we can index (put into a search engine) as is.\n",
        "# For Evidently docs, the documents are very large. We need extra processing called \"chunking\" - breaking large documents into smaller, manageable pieces. This is important because:\n",
        "\n",
        "# - Search relevance: Smaller chunks are more specific and relevant to user queries\n",
        "# - Performance: AI models work better with shorter text segments\n",
        "# - Memory limits: Large documents might exceed token limits of language models\n",
        "\n",
        "# We will cover chunking techniques in tomorrow's lesson.\n"
      ]
    },
    {
      "cell_type": "code",
      "source": [],
      "metadata": {
        "id": "p6czON0uK6aN"
      },
      "execution_count": null,
      "outputs": []
    },
    {
      "cell_type": "code",
      "source": [],
      "metadata": {
        "id": "nJB7WcDkK6Xb"
      },
      "execution_count": null,
      "outputs": []
    },
    {
      "cell_type": "code",
      "source": [],
      "metadata": {
        "id": "rDNPprlcK6Ve"
      },
      "execution_count": null,
      "outputs": []
    },
    {
      "cell_type": "code",
      "source": [],
      "metadata": {
        "id": "eg02PYGQK6SE"
      },
      "execution_count": null,
      "outputs": []
    },
    {
      "cell_type": "code",
      "source": [],
      "metadata": {
        "id": "U5fSiyceK6QS"
      },
      "execution_count": null,
      "outputs": []
    },
    {
      "cell_type": "code",
      "source": [],
      "metadata": {
        "id": "R9Ms6RQoK6NH"
      },
      "execution_count": null,
      "outputs": []
    },
    {
      "cell_type": "code",
      "source": [],
      "metadata": {
        "id": "iMfsdgQBK6LG"
      },
      "execution_count": null,
      "outputs": []
    },
    {
      "cell_type": "code",
      "source": [],
      "metadata": {
        "id": "42tuInQGK6Hq"
      },
      "execution_count": null,
      "outputs": []
    },
    {
      "cell_type": "code",
      "source": [],
      "metadata": {
        "id": "wTb_C_X3K6GD"
      },
      "execution_count": null,
      "outputs": []
    },
    {
      "cell_type": "code",
      "source": [],
      "metadata": {
        "id": "v5Y5uXQ6K6C8"
      },
      "execution_count": null,
      "outputs": []
    },
    {
      "cell_type": "code",
      "source": [],
      "metadata": {
        "id": "swno-rYGK6A3"
      },
      "execution_count": null,
      "outputs": []
    },
    {
      "cell_type": "code",
      "source": [],
      "metadata": {
        "id": "z942JEqOK59M"
      },
      "execution_count": null,
      "outputs": []
    },
    {
      "cell_type": "code",
      "source": [],
      "metadata": {
        "id": "cGeH2wSjK563"
      },
      "execution_count": null,
      "outputs": []
    },
    {
      "cell_type": "code",
      "source": [],
      "metadata": {
        "id": "ul2QRlJzK53_"
      },
      "execution_count": null,
      "outputs": []
    },
    {
      "cell_type": "code",
      "source": [],
      "metadata": {
        "id": "Ph2_KjM5K52i"
      },
      "execution_count": null,
      "outputs": []
    },
    {
      "cell_type": "code",
      "source": [],
      "metadata": {
        "id": "ONIdJ6IpK5yQ"
      },
      "execution_count": null,
      "outputs": []
    },
    {
      "cell_type": "code",
      "source": [],
      "metadata": {
        "id": "J4fbwGX5K5wp"
      },
      "execution_count": null,
      "outputs": []
    }
  ],
  "metadata": {
    "colab": {
      "provenance": [],
      "authorship_tag": "ABX9TyOlg+rxC1LDQlPuNHQ7D7Sx",
      "include_colab_link": true
    },
    "kernelspec": {
      "display_name": "Python 3",
      "name": "python3"
    },
    "language_info": {
      "name": "python"
    }
  },
  "nbformat": 4,
  "nbformat_minor": 0
}